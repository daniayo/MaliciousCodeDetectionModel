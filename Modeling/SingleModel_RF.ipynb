{
 "cells": [
  {
   "cell_type": "code",
   "execution_count": 19,
   "id": "44c481b7-1a3d-431b-b3fb-7ba4334b09f1",
   "metadata": {},
   "outputs": [],
   "source": [
    "import pandas as pd\n",
    "import numpy as np\n",
    "import os\n",
    "import cv2\n",
    "from sklearn.model_selection import train_test_split\n",
    "from sklearn.preprocessing import StandardScaler\n",
    "from sklearn.svm import SVC\n",
    "from sklearn.ensemble import RandomForestClassifier\n",
    "from sklearn.naive_bayes import GaussianNB\n",
    "from sklearn.metrics import accuracy_score\n",
    "from sklearn.feature_selection import SelectFromModel\n",
    "from tensorflow.keras.models import Sequential\n",
    "from tensorflow.keras.layers import Dense, Conv2D, Flatten, MaxPooling2D\n",
    "from tensorflow.keras.optimizers import Adam\n",
    "from tensorflow.keras.utils import to_categorical\n",
    "\n",
    "ngram = pd.read_csv('ngram.csv')\n",
    "\n",
    "# Ngram 데이터 결합\n",
    "X_ngram = ngram.values\n"
   ]
  },
  {
   "cell_type": "code",
   "execution_count": 21,
   "id": "1555404d-fe53-4eb7-9fbd-d9a9676c8f79",
   "metadata": {},
   "outputs": [
    {
     "name": "stdout",
     "output_type": "stream",
     "text": [
      "Ngram One-Hot Encoding 후 특성: Index(['mov mov mov mov', 'add add add add', 'int3 int3 int3 int3',\n",
      "       'push push push push', 'push push push call', 'mov mov mov call',\n",
      "       'mov mov call push', 'nop nop nop nop', 'push push call mov',\n",
      "       'mov mov call mov',\n",
      "       ...\n",
      "       'pop dec dec push', 'mov mov call test', 'push push dec push',\n",
      "       'mov cmp jne mov', 'dec push pop inc', 'push mov mov push',\n",
      "       'leave ret push mov', 'mov mov mov cmp', 'mov lea push push', 'class'],\n",
      "      dtype='object', length=101)\n"
     ]
    }
   ],
   "source": [
    "import pandas as pd\n",
    "import numpy as np\n",
    "\n",
    "# Ngram 데이터 로드\n",
    "ngram = pd.read_csv('ngram.csv')\n",
    "\n",
    "# 'filename' 열 삭제\n",
    "ngram = ngram.drop(columns=['filename'])\n",
    "\n",
    "# MD5로 시작하는 열 삭제\n",
    "ngram = ngram.loc[:, ~ngram.columns.str.startswith('MD5')]\n",
    "\n",
    "# Ngram 데이터에 대해 One-Hot Encoding 수행\n",
    "ngram_encoded = pd.get_dummies(ngram)\n",
    "\n",
    "# One-Hot Encoding된 데이터\n",
    "X_ngram_encoded = ngram_encoded.values\n",
    "\n",
    "# One-Hot Encoding 후 특성 확인\n",
    "print(\"Ngram One-Hot Encoding 후 특성:\", ngram_encoded.columns)\n"
   ]
  },
  {
   "cell_type": "code",
   "execution_count": 22,
   "id": "a93a378d-2a05-4451-a4e7-533071477c43",
   "metadata": {},
   "outputs": [],
   "source": [
    "from sklearn.model_selection import train_test_split\n",
    "from sklearn.preprocessing import StandardScaler\n",
    "import numpy as np\n",
    "\n",
    "num_samples = len(X_ngram_encoded)\n",
    "y_ngram = np.concatenate([np.ones(num_samples // 2), np.zeros(num_samples - num_samples // 2)])\n",
    "\n",
    "# train_test_split을 사용하여 Ngram 데이터를 분할합니다.\n",
    "X_ngram_train, X_ngram_test, y_ngram_train, y_ngram_test = train_test_split(X_ngram_encoded, y_ngram, test_size=0.2, random_state=42)\n"
   ]
  },
  {
   "cell_type": "code",
   "execution_count": 23,
   "id": "b221a36f-804b-40bf-8d34-628956740138",
   "metadata": {},
   "outputs": [
    {
     "name": "stdout",
     "output_type": "stream",
     "text": [
      "Ngram 데이터 성능:\n",
      "Accuracy: 0.8034188034188035\n",
      "              precision    recall  f1-score   support\n",
      "\n",
      "         0.0       0.73      0.88      0.80        52\n",
      "         1.0       0.89      0.74      0.81        65\n",
      "\n",
      "    accuracy                           0.80       117\n",
      "   macro avg       0.81      0.81      0.80       117\n",
      "weighted avg       0.82      0.80      0.80       117\n",
      "\n"
     ]
    }
   ],
   "source": [
    "from sklearn.model_selection import train_test_split\n",
    "from sklearn.preprocessing import StandardScaler\n",
    "from sklearn.ensemble import RandomForestClassifier\n",
    "from sklearn.metrics import accuracy_score, classification_report\n",
    "from sklearn.impute import SimpleImputer\n",
    "import numpy as np\n",
    "\n",
    "# NaN 값 처리: SimpleImputer 사용\n",
    "imputer = SimpleImputer(strategy='mean')  # NaN 값을 평균으로 대체\n",
    "\n",
    "# Ngram 데이터 NaN 처리\n",
    "X_ngram_train = imputer.fit_transform(X_ngram_train)\n",
    "X_ngram_test = imputer.transform(X_ngram_test)\n",
    "\n",
    "# 표준화: Ngram 데이터\n",
    "scaler_ngram = StandardScaler()\n",
    "X_ngram_train_scaled = scaler_ngram.fit_transform(X_ngram_train)\n",
    "X_ngram_test_scaled = scaler_ngram.transform(X_ngram_test)\n",
    "\n",
    "# RandomForest 모델 학습: Ngram 데이터\n",
    "rf_model_ngram = RandomForestClassifier(random_state=42)\n",
    "rf_model_ngram.fit(X_ngram_train_scaled, y_ngram_train)\n",
    "\n",
    "# Ngram 데이터 예측 및 성능 평가\n",
    "y_ngram_pred = rf_model_ngram.predict(X_ngram_test_scaled)\n",
    "print(\"Ngram 데이터 성능:\")\n",
    "print(\"Accuracy:\", accuracy_score(y_ngram_test, y_ngram_pred))\n",
    "print(classification_report(y_ngram_test, y_ngram_pred))"
   ]
  },
  {
   "cell_type": "code",
   "execution_count": 25,
   "id": "fd112da8-c5c3-4cbf-8e8c-5bf97b04d52b",
   "metadata": {},
   "outputs": [
    {
     "name": "stdout",
     "output_type": "stream",
     "text": [
      "Fitting 10 folds for each of 8 candidates, totalling 80 fits\n",
      "최적의 매개변수: {'max_features': None, 'n_estimators': 100}\n",
      "최고 교차 검증 정확도: 0.868963922294172\n",
      "테스트 데이터 정확도: 0.8290598290598291\n",
      "Classification Report:\n",
      "              precision    recall  f1-score   support\n",
      "\n",
      "         0.0       0.75      0.92      0.83        52\n",
      "         1.0       0.92      0.75      0.83        65\n",
      "\n",
      "    accuracy                           0.83       117\n",
      "   macro avg       0.84      0.84      0.83       117\n",
      "weighted avg       0.85      0.83      0.83       117\n",
      "\n"
     ]
    }
   ],
   "source": [
    "from sklearn.model_selection import GridSearchCV\n",
    "from sklearn.ensemble import RandomForestClassifier\n",
    "from sklearn.metrics import accuracy_score, classification_report\n",
    "\n",
    "# 파라미터 그리드 정의\n",
    "param_grid = {\n",
    "    'n_estimators': [100, 200, 500, 1000],  # n_estimators 값\n",
    "    'max_features': ['sqrt', None]  # max_features 값\n",
    "}\n",
    "\n",
    "# GridSearchCV 정의 (10-Fold 교차 검증)\n",
    "grid_search_ngram = GridSearchCV(\n",
    "    estimator=RandomForestClassifier(),\n",
    "    param_grid=param_grid,\n",
    "    cv=10,\n",
    "    n_jobs=-1,\n",
    "    verbose=1\n",
    ")\n",
    "\n",
    "# GridSearchCV 학습 (받은 데이터를 그대로 사용)\n",
    "grid_search_ngram.fit(X_ngram_train_scaled, y_ngram_train)\n",
    "\n",
    "# 최적의 매개변수 출력\n",
    "print(f\"최적의 매개변수: {grid_search_ngram.best_params_}\")\n",
    "print(f\"최고 교차 검증 정확도: {grid_search_ngram.best_score_}\")\n",
    "\n",
    "# 최적의 모델로 테스트 데이터 예측\n",
    "y_ngram_pred = grid_search_ngram.best_estimator_.predict(X_ngram_test_scaled)\n",
    "\n",
    "# 테스트 데이터 정확도 출력\n",
    "print(\"테스트 데이터 정확도:\", accuracy_score(y_ngram_test, y_ngram_pred))\n",
    "\n",
    "# 추가로 Classification Report 출력\n",
    "print(\"Classification Report:\")\n",
    "print(classification_report(y_ngram_test, y_ngram_pred))\n"
   ]
  },
  {
   "cell_type": "code",
   "execution_count": 26,
   "id": "aaf5b103-c956-4851-a6ec-963782b2b86d",
   "metadata": {},
   "outputs": [],
   "source": [
    "import joblib\n",
    "\n",
    "# 최적의 랜덤 포레스트 모델 저장\n",
    "joblib.dump(grid_search_ngram.best_estimator_, 'rf_model_ngram.joblib')\n",
    "\n",
    "# 모델 로드 예시\n",
    "rf_model_ngram_loaded = joblib.load('rf_model_ngram.joblib')\n"
   ]
  },
  {
   "cell_type": "code",
   "execution_count": null,
   "id": "eea5e778-f6cc-49d1-bfa1-604a04085452",
   "metadata": {},
   "outputs": [],
   "source": []
  }
 ],
 "metadata": {
  "kernelspec": {
   "display_name": "Python 3 (ipykernel)",
   "language": "python",
   "name": "python3"
  },
  "language_info": {
   "codemirror_mode": {
    "name": "ipython",
    "version": 3
   },
   "file_extension": ".py",
   "mimetype": "text/x-python",
   "name": "python",
   "nbconvert_exporter": "python",
   "pygments_lexer": "ipython3",
   "version": "3.8.20"
  }
 },
 "nbformat": 4,
 "nbformat_minor": 5
}
